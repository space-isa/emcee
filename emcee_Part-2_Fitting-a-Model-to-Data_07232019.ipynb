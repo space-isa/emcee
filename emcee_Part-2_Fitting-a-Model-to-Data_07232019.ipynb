{
 "cells": [
  {
   "cell_type": "code",
   "execution_count": 1,
   "metadata": {},
   "outputs": [
    {
     "name": "stdout",
     "output_type": "stream",
     "text": [
      "This version of emcee is: 2.2.1\n",
      "This version of Python is 3.6.2\n"
     ]
    }
   ],
   "source": [
    "import numpy as np\n",
    "import emcee\n",
    "print(\"This version of emcee is:\", emcee.__version__)\n",
    "import sys\n",
    "print(\"This version of Python is %s.%s.%s\" % sys.version_info[:3])\n",
    "from matplotlib import pyplot as plt\n",
    "import scipy.stats \n",
    "from IPython.display import display, HTML"
   ]
  },
  {
   "cell_type": "markdown",
   "metadata": {},
   "source": [
    "---------------------------------------------------------------------------------------------------------------------------------------------------------------------------------------------------------------------------------------------------------------------\n",
    "\n",
    "# 🎙| The MCMC Hammer\n",
    "\n",
    "<b>The emcee module is a Python implemenation of the Affine-Invariant Markov chain Monte Carlo (MCMC) Ensemble sampler, originally developed by Goodman & Weare.</b> \n",
    "\n",
    "<div style=\"display: flex; justify-content: row;\">\n",
    "    <img src=\"https://media.giphy.com/media/xDrn9oG797R96/giphy.gif\">\n",
    "</div>\n",
    "\n",
    "Side quest: __[MC Hammer: U Can't Touch This (Official Video)](https://www.youtube.com/watch?v=otCpCn0l4Wo)__\n",
    "\n",
    "This notebook closely follows the documentation provided below.\n",
    "\n",
    "---------------------------------------------------------------------------------------------------------------------------------------------------------------------------------------------------------------------------------------------------------------------\n"
   ]
  },
  {
   "cell_type": "markdown",
   "metadata": {},
   "source": [
    "<div class=\"alert alert-block alert-info\">\n",
    "\n",
    "### 📓 | References  \n",
    "\n",
    "</div>\n",
    "\n",
    "- __[Link to arXiv paper](https://arxiv.org/pdf/1202.3665.pdf)__\n",
    "\n",
    "- __[Link to official documentation](https://emcee.readthedocs.io/en/v2.2.1/user/quickstart/)__\n",
    "\n",
    "- \"A Zero-Math Introduction to Markov Chain Monte Carlo Methods\", Ben Shaver\n",
    "    - __[Link to Medium article](https://towardsdatascience.com/a-zero-math-introduction-to-markov-chain-monte-carlo-methods-dcba889e0c50)__ \n"
   ]
  },
  {
   "cell_type": "markdown",
   "metadata": {},
   "source": [
    "---\n",
    "\n",
    "<div class=\"alert alert-block alert-info\">\n",
    "\n",
    "<b> 🔢  | Math sidenote </b>  \n",
    "\n",
    "</div>\n",
    "\n",
    "\n",
    " <b>Affine space</b> \n",
    "\n",
    "\"In mathematics, an affine space is a geometric structure that generalizes some of the properties of Euclidean spaces in such a way that these are independent of the concepts of distance and measure of angles, keeping only the properties related to parallelism and ratio of lengths for parallel line segments.\n",
    "\n",
    "In an affine space, there is no distinguished point that serves as an origin. Hence, no vector has a fixed origin and no vector can be uniquely associated to a point. In an affine space, there are instead displacement vectors, also called translation vectors or simply translations, between two points of the space. Thus it makes sense to subtract two points of the space, giving a translation vector, but it does not make sense to add two points of the space. Likewise, it makes sense to add a displacement vector to a point of an affine space, resulting in a new point translated from the starting point by that vector.\n",
    "\n",
    "Any vector space may be considered as an affine space, and this amounts to forgetting the special role played by the zero vector. In this case, the elements of the vector space may be viewed either as points of the affine space or as displacement vectors or translations. When considered as a point, the zero vector is called the origin. Adding a fixed vector to the elements of a linear subspace of a vector space produces an affine subspace. One commonly says that this affine subspace has been obtained by translating (away from the origin) the linear subspace by the translation vector. In finite dimensions, such an affine subspace is the solution set of an inhomogeneous linear system. The displacement vectors for that affine space are the solutions of the corresponding homogeneous linear system, which is a linear subspace. Linear subspaces, in contrast, always contain the origin of the vector space.\" (Thanks, wiki!) \n",
    "        \n",
    "---------------------------------------------------------------------------------------------------------------------------------------------------------------------------------------------------------------------------------------------------------------------\n",
    " "
   ]
  },
  {
   "cell_type": "markdown",
   "metadata": {},
   "source": [
    "## 2. Fitting a model to (noisy) data"
   ]
  },
  {
   "cell_type": "markdown",
   "metadata": {},
   "source": [
    "### Approach #1: The generative probabilistic model \n",
    "---\n",
    "This approach describes the probability of a dataset given a set of model parameters. Here, we're working with a linear model where the uncertainties given are actually underestimated by some constant fractional amount (❕). \n",
    "\n",
    "---\n",
    "\n",
    "<div class=\"alert alert-block alert-warning\">\n",
    "    <b>❕ | Spoiler alert  <b/>\n",
    "        </div>\n",
    "\n",
    "<b> The generative probabilistic model only works when the error bars given are assumed to be: correct, Gaussian, and independent.</b> \n",
    "\n",
    "---\n",
    "\n",
    "Starting with a synthetic dataset from this model: "
   ]
  },
  {
   "cell_type": "code",
   "execution_count": 2,
   "metadata": {},
   "outputs": [
    {
     "data": {
      "image/png": "[encoded data removed]",
      "text/plain": [
       "<Figure size 720x576 with 1 Axes>"
      ]
     },
     "metadata": {
      "needs_background": "light"
     },
     "output_type": "display_data"
    }
   ],
   "source": [
    "np.random.seed(123)\n",
    "\n",
    "# True parameters \n",
    "m_true = -0.9594\n",
    "b_true = 4.294\n",
    "f_true = 0.534\n",
    "\n",
    "# Generate synthetic data from the model \n",
    "N = 50 \n",
    "x = np.sort(10*np.random.rand(N))\n",
    "yerr = 0.1 + 0.5 * np.random.rand(N) #y-error\n",
    "y = m_true * x + b_true \n",
    "y += np.abs(f_true * y) * np.random.randn(N)\n",
    "y += yerr * np.random.randn(N)\n",
    "\n",
    "plt.figure(figsize=(10,8))\n",
    "plt.errorbar(x,y,yerr=yerr, fmt=\".m\",ecolor='c',capsize=0)\n",
    "x0 = np.linspace(0,10,500)\n",
    "plt.plot(x0, m_true*x0+b_true, \"k\", alpha=0.2, lw=3)\n",
    "plt.xlim(0,10)\n",
    "plt.xlabel(\"x\", fontsize= 18)\n",
    "plt.ylabel(\"y\", fontsize= 18, rotation =0)\n",
    "plt.title(\"True model\", fontsize= 18)\n",
    "plt.xticks(fontsize=14, rotation=0)\n",
    "plt.yticks(fontsize=14, rotation=0)\n",
    "plt.show()"
   ]
  },
  {
   "cell_type": "markdown",
   "metadata": {},
   "source": [
    "Given the underestimated uncertainties, the true model fit is not the best one. A standard way to fit this data is using linear least squares. "
   ]
  },
  {
   "cell_type": "code",
   "execution_count": 3,
   "metadata": {},
   "outputs": [
    {
     "name": "stdout",
     "output_type": "stream",
     "text": [
      "Least squares estimates:\n",
      "m = -1.104 ± 0.016\n",
      "b = 5.441 ± 0.091\n"
     ]
    }
   ],
   "source": [
    "A = np.vander(x,2)\n",
    "C = np.diag(yerr * yerr)\n",
    "ATA = np.dot(A.T, A / (yerr ** 2)[:, None])\n",
    "cov = np.linalg.inv(ATA)\n",
    "w = np.linalg.solve(ATA, np.dot(A.T, y/yerr**2))\n",
    "print(\"Least squares estimates:\")\n",
    "print(\"m = {0:.3f} ± {1:.3f}\".format(w[0], np.sqrt(cov[0,0])))\n",
    "print(\"b = {0:.3f} ± {1:.3f}\".format(w[1], np.sqrt(cov[1,1])))"
   ]
  },
  {
   "cell_type": "markdown",
   "metadata": {},
   "source": [
    "---\n",
    "<div class=\"alert alert-block alert-info\">\n",
    "    <b> 🐍 | Python sidenote  </b>\n",
    "</div>\n",
    "\n",
    "<b>np.vander(x, N=None, increasing=False)</b>\n",
    "\n",
    "Generates a Vandermonde matrix. \n",
    "\n",
    "The columns of the output matrix are powers of the input vector. The order of the powers is determined by the increasing boolean argument. Specifically, when increasing is False, the i-th output column is the input vector raised element-wise to the power of N - i - 1. Such a matrix with a geometric progression in each row is named for Alexandre- Theophile Vandermonde."
   ]
  },
  {
   "cell_type": "markdown",
   "metadata": {},
   "source": [
    "---\n",
    "Plotting our least squares solution against the true model:"
   ]
  },
  {
   "cell_type": "code",
   "execution_count": 4,
   "metadata": {},
   "outputs": [
    {
     "data": {
      "image/png": "[encoded data removed]",
      "text/plain": [
       "<Figure size 720x576 with 1 Axes>"
      ]
     },
     "metadata": {
      "needs_background": "light"
     },
     "output_type": "display_data"
    }
   ],
   "source": [
    "plt.figure(figsize=(10,8))\n",
    "plt.errorbar(x,y,yerr=yerr, fmt=\".m\",ecolor='c',capsize=0)\n",
    "plt.plot(x0, m_true*x0+b_true, \"k\", alpha=0.2, lw=3, label=\"True model\")\n",
    "plt.plot(x0, np.dot(np.vander(x0, 2), w), \"--k\", label=\"Linear least squares solution\")\n",
    "plt.legend(fontsize=14)\n",
    "plt.xlim(0, 10)\n",
    "plt.xlabel(\"x\", fontsize= 18)\n",
    "plt.ylabel(\"y\", fontsize= 18, rotation =0)\n",
    "plt.xticks(fontsize=14, rotation=0)\n",
    "plt.yticks(fontsize=14, rotation=0)\n",
    "plt.show()"
   ]
  },
  {
   "cell_type": "markdown",
   "metadata": {},
   "source": [
    " It's pretty far off from our true model though...\n",
    " \n",
    " <div style=\"display: flex; justify-content: row;\">\n",
    "    <img src=\"https://media.giphy.com/media/119XyLewLGmT0k/giphy.gif\">\n",
    "</div>\n",
    "\n",
    "But we anticipated this! Let's try another approach.\n",
    "\n",
    " <div style=\"display: flex; justify-content: row;\">\n",
    "    <img src=\"https://media.giphy.com/media/bKnEnd65zqxfq/giphy.gif\">\n",
    "</div>"
   ]
  },
  {
   "cell_type": "markdown",
   "metadata": {},
   "source": [
    "---\n",
    "### Approach #2: Maximum likelihood estimation\n",
    "---\n",
    "The least squares solution we found above is the maximum likelihood for a model given the correct error. Recall, however, that the error in this example has been underestimated. This means that the general case will not work for us, we need to take the likelihood function (📊) and optimize it numerically using scipy's optimize module. \n",
    "\n",
    "The likelihood function we will use is: \n",
    "\n",
    "\\begin{equation*}\n",
    "\\textrm{ln} p(y|x,\\sigma, m, b, f) = - \\frac{1}{2} \\sum_n \\left( \\frac{(y_n - m x_n- b)^2}{s^2_n} + \\textrm{ln}(2\\pi s_n^2)\\right),\n",
    "\\end{equation*}\n",
    "\n",
    "where \n",
    "\n",
    "\\begin{equation*}\n",
    "s_n^2  \\sigma_n^2 + f^2(mx_n+b)^2.\n",
    "\\end{equation*}\n",
    "\n"
   ]
  },
  {
   "cell_type": "markdown",
   "metadata": {},
   "source": [
    "---\n",
    "<div class= \"alert alert-box alert-info\">\n",
    "    <b> 📊 | Stats sidenote </b>\n",
    "    </div>\n",
    "\n",
    "\n",
    "A <b>likelihood function</b> is a Gaussian whose variance we know to be underestimated by some fractional amount $f$.  \n",
    "\n",
    "---\n"
   ]
  },
  {
   "cell_type": "markdown",
   "metadata": {},
   "source": [
    "Defining this function in code (note that we are using the log of $f$): "
   ]
  },
  {
   "cell_type": "code",
   "execution_count": 5,
   "metadata": {},
   "outputs": [],
   "source": [
    "def log_likelihood(theta, x, y, yerr):\n",
    "    m, b, log_f = theta\n",
    "    model = m * x + b\n",
    "    sigma2 = yerr ** 2 + model**2*np.exp(2*log_f)\n",
    "    return -0.5 * np.sum((y-model)**2/sigma2 + np.log(sigma2))"
   ]
  },
  {
   "cell_type": "code",
   "execution_count": 6,
   "metadata": {},
   "outputs": [
    {
     "name": "stdout",
     "output_type": "stream",
     "text": [
      "m = -1.003\n",
      "b = 4.528\n",
      "f = 0.454\n"
     ]
    }
   ],
   "source": [
    "from scipy.optimize import minimize\n",
    "\n",
    "np.random.seed(42)\n",
    "n11 = lambda *args: -log_likelihood(*args)\n",
    "initial = np.array([m_true, b_true, np.log(f_true)]) + 0.1*np.random.randn(3)\n",
    "soln = minimize(n11, initial, args=(x,y,yerr))\n",
    "m_ml, b_ml, log_f_ml = soln.x\n",
    "\n",
    "#print(\"Maximum likelihood estimates:\")\n",
    "print(\"m = {0:0.3f}\".format(m_ml))\n",
    "print(\"b = {0:0.3f}\".format(b_ml))\n",
    "print(\"f = {0:0.3f}\".format(np.exp(log_f_ml)))"
   ]
  },
  {
   "cell_type": "code",
   "execution_count": 7,
   "metadata": {},
   "outputs": [
    {
     "data": {
      "image/png": "[encoded data removed]",
      "text/plain": [
       "<Figure size 720x576 with 1 Axes>"
      ]
     },
     "metadata": {
      "needs_background": "light"
     },
     "output_type": "display_data"
    }
   ],
   "source": [
    "plt.figure(figsize=(10,8))\n",
    "plt.errorbar(x,y,yerr=yerr, fmt=\".m\",ecolor='c',capsize=0)\n",
    "plt.plot(x0, m_true*x0+b_true, \"k\", alpha=0.3, lw=2, label=\"True model\")\n",
    "plt.plot(x0, np.dot(np.vander(x0, 2), w), \"--k\",  alpha=0.2, label=\"Linear least squares solution\")\n",
    "plt.plot(x0, np.dot(np.vander(x0, 2), [m_ml, b_ml]), \":k\", label=\"Maximum likelihood\")\n",
    "plt.legend(fontsize=14)\n",
    "plt.xlim(0, 10)\n",
    "plt.ylim(-7,7)\n",
    "plt.xlabel(\"x\", fontsize= 18)\n",
    "plt.ylabel(\"y\", fontsize= 18, rotation =0)\n",
    "plt.xticks(fontsize=14, rotation=0)\n",
    "plt.yticks(fontsize=14, rotation=0)\n",
    "plt.show()"
   ]
  },
  {
   "cell_type": "markdown",
   "metadata": {},
   "source": [
    "By using the minimize module, we managed to minimize the negative likelihood. We're getting there (look how much closer the ML solution matches the true model)! Now, how to esitmate the uncertanties on $m$ and $b$? And what is $f$??\n",
    "\n",
    "\n",
    "<div style=\"display: flex; justify-content: row;\">\n",
    "    <img src=\"https://media.giphy.com/media/y3QOvy7xxMwKI/giphy.gif\">\n",
    "</div>\n"
   ]
  },
  {
   "cell_type": "markdown",
   "metadata": {},
   "source": [
    "### Marginalization & uncertainty estimation"
   ]
  },
  {
   "cell_type": "markdown",
   "metadata": {},
   "source": [
    "What makes [The] MCMC [Hammer] great, name asside, is that it allows you to find an estimate of a <b>posterior probability function </b> (📊) as well as marginalize over some \"nuisance parameters\" at the same time.  "
   ]
  },
  {
   "cell_type": "markdown",
   "metadata": {},
   "source": [
    "---\n",
    "<div class= \"alert alert-box alert-info\">\n",
    "    <b> 📊 | Stats sidenote </b>\n",
    "    </div>\n",
    "\n",
    "\n",
    "A <b>posterior probability function</b> is the distribution of parameters consistent with a given dataset.  \n",
    "\n",
    "---\n"
   ]
  },
  {
   "cell_type": "markdown",
   "metadata": {},
   "source": [
    "In our maximum likelihood apporach, we had written out our likelihood function. What we need is the \"prior\" function in order to get the posterior probability function: \n",
    "\n",
    "\\begin{equation*}\n",
    "p(m,b,f|x,y,\\sigma) \\propto p(m,b,f)p(y|x,\\sigma, m,b,f)\n",
    "\\end{equation*}\n",
    "\n",
    "The prior function $p(m,b,f)$ encodes previous knowledge we have about our system (e.g., prior experiements, ranges that are physically acceptable). \n",
    "\n",
    "---\n",
    "\n",
    "<div class = \"alert alert-block alert-warning\">\n",
    "    ❕ | Important\n",
    "    </div>\n",
    "\n",
    "<b> You can't draw parameter samples from your likelihood function! Why? Because that function is a probability distribution over datasets. So while you can have representative datasets, you cannot draw parameter samples. </b>\n",
    "\n",
    "---    \n",
    "\n",
    "For the purpose of our example, we will use uniformative priors on $m$, $b$ and $f$ (which remember is actually the log of $f$): \n",
    "\n",
    "\\begin{equation*}\n",
    "    p(m)=\n",
    "    \\begin{cases}\n",
    "      1/5.5, & \\text{if}\\ -5 < m < 1/2 \\\\\n",
    "      0, & \\text{otherwise}\n",
    "    \\end{cases}\\end{equation*} "
   ]
  },
  {
   "cell_type": "code",
   "execution_count": 8,
   "metadata": {},
   "outputs": [],
   "source": [
    "def log_prior(theta): \n",
    "    m, b, log_f = theta\n",
    "    if -5.0 < m <0.5 and 0.0 < b < 10.0 and -10.0 < log_f < 1.0: \n",
    "        return 0.0\n",
    "    return -np.inf"
   ]
  },
  {
   "cell_type": "markdown",
   "metadata": {},
   "source": [
    "Using this function with our log-probabilty function, we get: "
   ]
  },
  {
   "cell_type": "code",
   "execution_count": null,
   "metadata": {},
   "outputs": [],
   "source": [
    "def log_probability(theta, x,y,yerr):\n",
    "    lp = log_prior(theta)\n",
    "    if not np.isfinite(lp):\n",
    "        return -np.inf\n",
    "    return lp + log_likelihood(theta, x, y, yerr)"
   ]
  },
  {
   "cell_type": "markdown",
   "metadata": {},
   "source": [
    "Now, let's sample this distribution with emcee.\n",
    "\n",
    "We'll start with our walkers initialized in a small Gaussian ball around our maximum likelihood result, then run 5,000 MCMC steps.\n",
    "\n",
    " <div style=\"display: flex; justify-content: row;\">\n",
    "    <img src=\"https://media.giphy.com/media/11rIergnpiYpvW/giphy.gif\">\n",
    "</div>"
   ]
  },
  {
   "cell_type": "code",
   "execution_count": null,
   "metadata": {},
   "outputs": [
    {
     "data": {
      "text/plain": [
       "(array([[-1.05845582,  4.83908645, -0.72989666],\n",
       "        [-0.94993168,  4.30451062, -0.91735235],\n",
       "        [-1.22564195,  5.4561314 , -0.96904454],\n",
       "        [-0.96365984,  4.35421675, -0.83080015],\n",
       "        [-0.96789911,  4.33066341, -0.73775402],\n",
       "        [-1.08552484,  4.7931804 , -0.9736668 ],\n",
       "        [-0.92902013,  4.18359875, -0.71914554],\n",
       "        [-1.07019305,  4.71194917, -0.79573846],\n",
       "        [-0.94643955,  4.20698806, -0.43328909],\n",
       "        [-0.95672664,  4.23942243, -0.91072988],\n",
       "        [-0.99929965,  4.5821401 , -0.8988428 ],\n",
       "        [-1.05959688,  4.8590696 , -0.54469157],\n",
       "        [-1.0695827 ,  4.90763803, -0.87777916],\n",
       "        [-1.04233342,  4.75349702, -0.90467062],\n",
       "        [-1.13774357,  5.19955515, -0.85679477],\n",
       "        [-1.00954573,  4.54530739, -0.81754373],\n",
       "        [-0.98510957,  4.49366259, -0.66026737],\n",
       "        [-0.90802079,  4.1077392 , -0.65283666],\n",
       "        [-0.9753313 ,  4.34364589, -0.80321768],\n",
       "        [-0.87521829,  3.9932199 , -0.60507091],\n",
       "        [-1.171261  ,  5.20945651, -0.88762064],\n",
       "        [-1.0701499 ,  4.87428484, -0.96785072],\n",
       "        [-1.15347867,  5.26528223, -1.01561377],\n",
       "        [-1.03626831,  4.63643009, -0.73956441],\n",
       "        [-1.11041172,  5.08055329, -0.98873015],\n",
       "        [-1.12300059,  5.01715026, -0.85639583],\n",
       "        [-1.07411424,  4.8230801 , -0.76142968],\n",
       "        [-0.96655665,  4.35596442, -0.7173112 ],\n",
       "        [-1.05833315,  4.71167404, -0.989255  ],\n",
       "        [-0.97860121,  4.46324833, -0.96072591],\n",
       "        [-0.98615353,  4.51048747, -0.79134294],\n",
       "        [-1.08381212,  4.89966647, -0.79648841]]),\n",
       " array([-13.31058083, -13.54960234, -16.75715074, -12.52717284,\n",
       "        -12.54618198, -14.97502019, -12.66095952, -14.56982442,\n",
       "        -15.16995171, -14.64586713, -13.38823633, -15.49542744,\n",
       "        -13.4901023 , -12.82602663, -14.18344879, -12.22524712,\n",
       "        -12.91040838, -12.92700338, -12.94417795, -13.84639357,\n",
       "        -15.08271339, -13.23602779, -14.921805  , -12.69224317,\n",
       "        -14.15855485, -13.68366156, -12.89036657, -12.32776725,\n",
       "        -13.90532998, -13.74391596, -12.79239284, -12.82783166]),\n",
       " ('MT19937', array([1497833728, 3700245697,  603446401, 3789400189,  981434453,\n",
       "          600068818, 2607342862, 2093522539, 2044659411,  673778844,\n",
       "         3875256062,  460747556, 2122773482, 2446807781, 1854885147,\n",
       "          914737383, 3587406063,  395010346, 3898153166, 3701680976,\n",
       "         1074458449,  859272108, 3187341958, 2951537767, 2557654885,\n",
       "         3034063999, 2553126453,  815641352, 2164105889, 3099889997,\n",
       "         1912841250, 1106338732, 1017407531, 3173016783, 2183077198,\n",
       "         2908895679, 3606530211, 3838093840, 1663510759, 1224533455,\n",
       "         1500314837, 2870223387,  550761484, 4105494242, 3124948503,\n",
       "           23160497,  494350922, 3899655978, 3865481388,  754798554,\n",
       "         1902061408,   79396564, 2058882732, 3358564008,  945669690,\n",
       "         3217172865, 1476739697, 1518861296,  384899870,   99496733,\n",
       "         3733296463, 3986041403, 2573157840, 4102660647, 2977264650,\n",
       "         1513706818, 2144141793, 3179254762, 3548130920, 1991079355,\n",
       "         3240787587, 4208956506,  133339202,  459484218,  255676490,\n",
       "         3841412120, 3551596380, 2938977627, 3877840849,  147633707,\n",
       "         1700120950,  158868524, 2592374270, 3286023578, 3992751034,\n",
       "         1779790262, 3466994663, 1038088637, 2326550310, 1528481092,\n",
       "         1722798241, 3385574896, 2198577511, 1388534546, 4249443225,\n",
       "          341399926, 3292410815, 1265197705, 1582817837, 2068419495,\n",
       "         1054187992,  308180289, 2067544326, 2870259826, 3883525388,\n",
       "         2092872354, 1739997948, 1196554208, 3458199897, 1604934890,\n",
       "         1272533517, 1549992492, 2992063953, 1246918367, 2671193162,\n",
       "         2544796624, 1187167287, 2742214459, 4226239946, 2225575793,\n",
       "         2576555171, 3676560581,  395904899,  286409700, 3134782988,\n",
       "         1080902348,  841737391, 3601687359, 1614537331, 4173002979,\n",
       "          290232172, 1026846509, 2788380765, 2213140858,  187495887,\n",
       "         2026958796, 3977681474,  783526051,  879676914, 1075365561,\n",
       "         3715465689,  610631766, 1048483404, 1211349521, 2371922355,\n",
       "         3060450934, 1873314512, 1509236872, 2295395951, 2659766369,\n",
       "          189721363, 1432792880, 4279975059,  721429243, 4013040052,\n",
       "         4187430878, 2947553113, 4148660802,  798036251, 3884077236,\n",
       "         3517932919, 3966772154, 1267299310, 3502732538,  293133971,\n",
       "          572784225, 3373596370, 3468708427, 3533039943,  386841929,\n",
       "         2072252945, 1109860622, 2930450107, 3369052324, 3737383618,\n",
       "         1085187734, 2182393541, 3592779027, 1166944713, 2395717443,\n",
       "         3480965731,  528301478, 1697411114, 4060108316, 1963409085,\n",
       "         2510543264, 3333154251, 1326062671, 1155892175, 4231331486,\n",
       "         2099437799, 2805435334, 3575763459, 3413809284,  950843129,\n",
       "         2067744409,  954469980, 4033313738,  240209602, 2965385670,\n",
       "         3935650958, 3939981459, 2546789670, 1338237207, 2723508413,\n",
       "          787325197,  512007936,  579764585, 2100273726, 3813695149,\n",
       "         3964394615, 1711065453, 1478112269,  983225667, 3090301610,\n",
       "         3240608566, 3507969619, 3787259207, 2897368853, 2048102484,\n",
       "          124331616, 3033060102, 4250762328, 4075926420,  382165940,\n",
       "         1860178463,  424699059, 1178124038, 1291656430, 1695061518,\n",
       "          818811059, 1134178037, 1490072494, 3642985242, 2960891678,\n",
       "           66481007, 1767205360, 4100237964,   88338413, 4154097400,\n",
       "           19668035, 3453368202, 3606944497, 1737341706, 1458001082,\n",
       "         2251544640, 3170011856, 4284076904, 1051206445,  416122251,\n",
       "         3484248139,  543926947,   80908640, 2205902051, 2842141301,\n",
       "         2851106928, 2141541467, 3889517105, 1447912297, 3340847054,\n",
       "          788693121,  363505634, 4059112035, 3581120346, 2466898690,\n",
       "         3106867804, 3356127776, 4253029199, 3148672748,  617756596,\n",
       "         2505876856,  785880023, 3500816212, 3045356215,  845476638,\n",
       "         3640465572, 2248571820, 2778923497,  599706259, 1988156463,\n",
       "         1827000975,   38148496, 1686601195, 1939386349,  106870983,\n",
       "         2146352321, 3971533090, 3080591410, 2210194108, 2940156551,\n",
       "         3939574127, 1175748949, 3891932414, 2689391030, 1111663099,\n",
       "          911898607, 2472348415, 2861147658,  966789494,  240504005,\n",
       "         2085358549, 1392281921, 1322676434,  810584758, 3135305603,\n",
       "         3839012916,  366686999, 3466504120,  270840582, 2301457894,\n",
       "         2371481901, 2707205465, 3886966450, 3847244304,  432725846,\n",
       "         2840101491,  977251672, 2068747771, 1949907105, 2613153320,\n",
       "         3133511661, 3270885332, 1291354377, 3220133531, 1145198441,\n",
       "          469249886, 1448589160, 1231050921, 3124610193, 2732199654,\n",
       "         2974902303, 1948213502, 2383147644,  132633468, 3338994850,\n",
       "         2473226488, 3615083322, 3489833025, 3996105620,  473302260,\n",
       "         3027626315, 1867935953, 3372771003, 1586576988, 2055479320,\n",
       "         1830481490, 1281048622, 2101099401, 2940093056, 3314237652,\n",
       "          246758884, 3331766961, 3798302190, 4273364393,  129376987,\n",
       "           32312380, 3138594226,  432466355, 2459776696, 4087344309,\n",
       "         1280776473, 1543820373, 3462046633, 3439326026, 2380540016,\n",
       "         3425802214,  224571519, 3369105776, 4076740811, 1978892499,\n",
       "         1706663467, 1316136187, 1926310876, 1467923251, 3035036268,\n",
       "          532534218, 2581152324,  423967824, 3496203326, 4171874850,\n",
       "         3633743115, 3650360149, 1015954328, 2374880456, 4185470437,\n",
       "         2784532529, 2356296896, 1404214890, 1834789163, 2795442377,\n",
       "         2269371665, 1380414175,  786383357, 2812095288,  496095743,\n",
       "         3316181750,  530483309, 3743306073, 1789963756, 4216710024,\n",
       "          161627154, 1252664824, 3761742841, 2105770227, 1274563853,\n",
       "         2943098241, 3474797290, 2791330327, 3550521322, 1093043274,\n",
       "         1014454875,  959290942, 1969636212, 3357975609, 1463708476,\n",
       "         3321794060,  378068482, 3608368179, 2437553017,  142864718,\n",
       "         3751194572, 3681216871, 3788477928,  580750651, 4183860440,\n",
       "         2923197302,  339602631, 1618352165, 2834295308, 1599885722,\n",
       "         2019448144, 4151037721,  345315090, 2908238929, 2938310006,\n",
       "         3659363703, 2908970721, 3710205470, 2667774576, 2293717099,\n",
       "         1147919360, 2938634265,  609699091, 1374953632, 2770465887,\n",
       "         3714018447, 2176177183, 2501692610, 1697018640, 1567068862,\n",
       "         2908158711,  702212642, 1769875655, 1913540425, 2879209604,\n",
       "          240707902,  968784950, 3029013747, 3764451843, 3876171593,\n",
       "         3576158900, 1476185558, 3747555451,    7138031, 3508420222,\n",
       "         2777955122, 1549633871,  217234439, 1902085708, 1223800450,\n",
       "          412166062, 2604437947,  307444609, 2910197098, 3097542986,\n",
       "            2236382,  872777818, 1361612613, 1231045406, 3682183438,\n",
       "         1163146675, 3746282678, 2281807708, 2906389109,  869926328,\n",
       "         1948508679, 4212515402, 1484774504, 3747186962, 3919163136,\n",
       "          675300082, 3736685847,  577185686, 3286101572,  261829096,\n",
       "          924853994, 1289999735, 3289118765, 3237354560, 3058165686,\n",
       "         2406746682, 2715269825, 3118159987,  499656378, 3155784619,\n",
       "          478962079,  212969138, 4154617919, 1186204329,  113323969,\n",
       "         3403035857,  923384160,  742896041, 3981012902, 3362584897,\n",
       "          308456305, 1191094577,  301191378, 2676958218, 3824765302,\n",
       "          494956925, 3659615429,   72234058, 4261902372, 1871086259,\n",
       "          495068655, 3259417587,  237967338, 1370241118, 2685867253,\n",
       "         2776336990, 3369617630, 2055097345, 2994132540,   26757689,\n",
       "         4174392588, 2625397149, 2552771945, 1204001548,  363993653,\n",
       "         3427800346, 2284327547,  239288782, 2119844789, 2968869310,\n",
       "          403092940, 1945709619,  278852130, 3995981946, 1397958751,\n",
       "          983166187, 3393106365, 2245161456, 2081333520, 2914630856,\n",
       "          791251273, 2538626958, 1490675842, 3198124898, 3361760643,\n",
       "         3577254325, 3627160300, 3018714494, 1957440279, 3480863082,\n",
       "         3749572857, 2652223050, 1389306642,  405288473, 2838184531,\n",
       "         2965768001, 3714592692, 2753933146, 1292221480, 2497419910,\n",
       "         1677243407, 3017664691,  864979618, 2685020520, 3837195038,\n",
       "         1146498283, 1654114201,   35998177, 4021462295,  146769696,\n",
       "         1430112761, 1494043131, 3459558490,   98396774,  333855575,\n",
       "         4021213773, 3256145733, 3554551190, 4146198574, 3084133626,\n",
       "         3975679167, 1395786235, 3147171249, 2069195693,  299188957,\n",
       "         2960656674,  656359710, 2445289117, 1635490839,  849593136,\n",
       "          411921805,  499627926, 3390721635, 2815555929,  395197371,\n",
       "          447300934, 1658058800, 1403743869, 2380225177, 2380053633,\n",
       "           63000699,  508118744, 2872718163, 2671685215,  288159393,\n",
       "          745499751, 1365973797,  112215846,  859642093], dtype=uint32), 32, 0, 0.0))"
      ]
     },
     "execution_count": 10,
     "metadata": {},
     "output_type": "execute_result"
    }
   ],
   "source": [
    "pos = soln.x + 1e-4*np.random.randn(32, 3)\n",
    "nwalkers, ndim = pos.shape\n",
    "\n",
    "sampler = emcee.EnsembleSampler(nwalkers, ndim, log_probability, args=(x, y, yerr))\n",
    "sampler.run_mcmc(pos, 5000)#, progress=True);"
   ]
  },
  {
   "cell_type": "markdown",
   "metadata": {},
   "source": [
    "So what did we accomplish? Let's take a look at the time series of the parameters in the chain, which can be accessed using the EnsembleSampler.get_chain() method (❕):"
   ]
  },
  {
   "cell_type": "code",
   "execution_count": null,
   "metadata": {},
   "outputs": [],
   "source": [
    "fig, axes = plt.subplots(3, figsize=(10, 7), sharex=True)\n",
    "samples = sampler.chain[:, :, :]\n",
    "labels = [\"m\", \"b\", \"log(f)\"]\n",
    "for i in range(ndim):\n",
    "    ax = axes[i]\n",
    "    ax.plot(samples[:, :, i], \"k\", alpha=0.3)\n",
    "    ax.set_xlim(0, len(samples))\n",
    "    ax.set_ylabel(labels[i])\n",
    "    ax.yaxis.set_label_coords(-0.1, 0.5)\n",
    "\n",
    "axes[-1].set_xlabel(\"step number\");"
   ]
  },
  {
   "cell_type": "markdown",
   "metadata": {},
   "source": [
    "---\n",
    "\n",
    "<div class=\"alert alert-block alert-warning\">\n",
    "    <b>❕ | Using pre-3.0 version  <b/>\n",
    "        </div>\n",
    "\n",
    "<b> Looks like we may need to update emcee to v3.0. The get_chain() function is not avaialble with v2. </b> \n",
    "\n",
    "---\n",
    "\n",
    "In any case, we are still able to flatten the chain (discarding the first 50 steps) so that we have a flat list of samples to use for our corner plot (🐍).  "
   ]
  },
  {
   "cell_type": "markdown",
   "metadata": {},
   "source": [
    "---\n",
    "<div class=\"alert alert-block alert-info\">\n",
    "    <b> 🐍 | Python sidenote  </b>\n",
    "</div>\n",
    "\n",
    "<b>__[corner plot](https://corner.readthedocs.io/en/latest/)__</b>\n",
    "\n",
    "\"An illustrative representation of different projections of samples in high dimensional spaces. It is awesome. I promise.\n",
    "\n",
    "This Python module uses matplotlib to visualize multidimensional samples using a scatterplot matrix. In these visualizations, each one- and two-dimensional projection of the sample is plotted to reveal covariances. corner was originally conceived to display the results of Markov Chain Monte Carlo simulations and the defaults are chosen with this application in mind but it can be used for displaying many qualitatively different samples.\"\n",
    "\n",
    "---\n",
    "\n",
    "### Results\n",
    "\n",
    "#### Figure: Corner Plot"
   ]
  },
  {
   "cell_type": "code",
   "execution_count": null,
   "metadata": {},
   "outputs": [],
   "source": [
    "samples = sampler.chain[:, 50:, :].reshape((-1,ndim))\n",
    "import corner\n",
    "fig = corner.corner(samples, labels=[\"$m$\", \"$b$\", \"$\\ln\\,f$\"],\n",
    "truths=[m_true, b_true, np.log(f_true)], figsize=(10,10))\n",
    "fig.savefig(\"triangle.png\")"
   ]
  },
  {
   "cell_type": "markdown",
   "metadata": {},
   "source": [
    "<div style=\"display: flex; justify-content: row;\">\n",
    "    <img src=\"https://media.giphy.com/media/3o7abBP0nMjrdIvaCY/giphy.gif\">\n",
    "</div>\n",
    "\n",
    "Pretty sweet, right?  \n",
    "\n",
    "Not only does this plot visualize all of the covariances present between parameters, but the histograms along the diagonal also show the marginalized distribution for each parameter independently! \n",
    "\n",
    "And this is only one possible diagnostic tool! Another plot we can use is the projection of the results into the space of the observed data. Let's take a handful of samples from the chain and plot them on top of our (original) data points. "
   ]
  },
  {
   "cell_type": "markdown",
   "metadata": {},
   "source": [
    "#### Figure: Sample Projection\n",
    "\n",
    "---"
   ]
  },
  {
   "cell_type": "code",
   "execution_count": null,
   "metadata": {},
   "outputs": [],
   "source": [
    "xl = np.array([0, 10])\n",
    "plt.figure(figsize=(10,8))\n",
    "\n",
    "for m, b, lnf in samples[np.random.randint(len(samples), size=100)]:\n",
    "    plt.plot(xl, m*xl+b, color=\"c\", alpha=0.1)\n",
    "\n",
    "plt.errorbar(x,y,yerr=yerr, fmt=\".m\",ecolor='m',capsize=0)\n",
    "plt.plot(x0, m_true*x0+b_true, \"k\", alpha=1, lw=3, label=\"True model\")\n",
    "plt.plot(x0, np.dot(np.vander(x0, 2), w), \"--k\",  alpha=0.2, label=\"Linear least squares solution\")\n",
    "plt.plot(x0, np.dot(np.vander(x0, 2), [m_ml, b_ml]), \":k\", label=\"Maximum likelihood\")\n",
    "plt.legend(fontsize=14)\n",
    "plt.xlim(0, 10)\n",
    "plt.ylim(-7,7)\n",
    "plt.xlabel(\"x\", fontsize= 18)\n",
    "plt.ylabel(\"y\", fontsize= 18, rotation =0)\n",
    "plt.xticks(fontsize=14, rotation=0)\n",
    "plt.yticks(fontsize=14, rotation=0)\n",
    "plt.show()"
   ]
  },
  {
   "cell_type": "markdown",
   "metadata": {},
   "source": [
    "As for our final numbers? Let's take a look: "
   ]
  },
  {
   "cell_type": "code",
   "execution_count": null,
   "metadata": {},
   "outputs": [],
   "source": [
    "samples[:, 2] = np.exp(samples[:, 2])\n",
    "m_mcmc, b_mcmc, f_mcmc = map(lambda v: (v[1], v[2]-v[1], v[1]-v[0]),\n",
    "zip(*np.percentile(samples, [16, 50, 84],\n",
    "axis=0)))\n",
    "\n",
    "print(\"MCMC values\")\n",
    "print(\"m_mcmc = {0:0.3f}\".format(m_mcmc[0]))\n",
    "print(\"b_mcmc = {0:0.3f}\".format(b_mcmc[0]))\n",
    "print(\"f_mcmc = {0:0.3f}\".format(f_mcmc[0]))\n",
    "print(\"------------------------\")\n",
    "print(\"Least likelihood values\")\n",
    "print(\"ml = {0:0.3f}\".format(m_ml))\n",
    "print(\"bl = {0:0.3f}\".format(b_ml))\n",
    "print(\"fl = {0:0.3f}\".format(np.exp(log_f_ml)))\n",
    "print(\"------------------------\")\n",
    "print(\"True values\")\n",
    "print(\"m = {0:0.3f}\".format(m_true))\n",
    "print(\"b = {0:0.3f}\".format(b_true))\n",
    "print(\"f = {0:0.3f}\".format(f_true))\n"
   ]
  },
  {
   "cell_type": "markdown",
   "metadata": {},
   "source": [
    "<div style=\"display: flex; justify-content: row;\">\n",
    "    <img src=\"https://media.giphy.com/media/Er43b5UCDYtrTDOaix/giphy.gif\">\n",
    "</div>\n",
    "\n",
    "Not bad, MCMC! "
   ]
  }
 ],
 "metadata": {
  "kernelspec": {
   "display_name": "Python 3",
   "language": "python",
   "name": "python3"
  },
  "language_info": {
   "codemirror_mode": {
    "name": "ipython",
    "version": 3
   },
   "file_extension": ".py",
   "mimetype": "text/x-python",
   "name": "python",
   "nbconvert_exporter": "python",
   "pygments_lexer": "ipython3",
   "version": "3.6.2"
  }
 },
 "nbformat": 4,
 "nbformat_minor": 2
}
