{
 "cells": [
  {
   "cell_type": "code",
   "execution_count": 1,
   "metadata": {},
   "outputs": [
    {
     "name": "stdout",
     "output_type": "stream",
     "text": [
      "This version of emcee is: 2.2.1\n",
      "This version of Python is 3.6.2\n"
     ]
    }
   ],
   "source": [
    "import numpy as np\n",
    "import emcee\n",
    "print(\"This version of emcee is:\", emcee.__version__)\n",
    "import sys\n",
    "print(\"This version of Python is %s.%s.%s\" % sys.version_info[:3])\n",
    "from matplotlib import pyplot as plt\n",
    "import scipy.stats \n",
    "from IPython.display import display, HTML"
   ]
  },
  {
   "cell_type": "markdown",
   "metadata": {},
   "source": [
    "---------------------------------------------------------------------------------------------------------------------------------------------------------------------------------------------------------------------------------------------------------------------\n",
    "\n",
    "# The MCMC Hammer\n",
    "\n",
    "<b>The emcee module is a Python implemenation of the Affine-Invariant Markov chain Monte Carlo (MCMC) Ensemble sampler, originally developed by Goodman & Weare.</b> \n",
    "\n",
    "<div style=\"display: flex; justify-content: row;\">\n",
    "    <img src=\"https://media.giphy.com/media/xDrn9oG797R96/giphy.gif\">\n",
    "</div>\n",
    "\n",
    "Side quest? __[MC Hammer: U Can't Touch This (Official Video)](https://www.youtube.com/watch?v=otCpCn0l4Wo)__\n",
    "\n",
    "---------------------------------------------------------------------------------------------------------------------------------------------------------------------------------------------------------------------------------------------------------------------\n"
   ]
  },
  {
   "cell_type": "markdown",
   "metadata": {},
   "source": [
    "<div class=\"alert alert-block alert-info\">\n",
    "\n",
    "### 📓 | References  \n",
    "\n",
    "</div>\n",
    "\n",
    "- __[Link to arXiv paper](https://arxiv.org/pdf/1202.3665.pdf)__\n",
    "\n",
    "- __[Link to official documentation](https://emcee.readthedocs.io/en/v2.2.1/user/quickstart/)__\n",
    "\n",
    "- \"A Zero-Math Introduction to Markov Chain Monte Carlo Methods\", Ben Shaver\n",
    "    - __[Link to Medium article](https://towardsdatascience.com/a-zero-math-introduction-to-markov-chain-monte-carlo-methods-dcba889e0c50)__ \n",
    "\n",
    "---"
   ]
  },
  {
   "cell_type": "markdown",
   "metadata": {},
   "source": [
    "<div class=\"alert alert-block alert-info\">\n",
    "\n",
    "<b> 🔢  | Math sidenote </b>  \n",
    "\n",
    "</div>\n",
    "\n",
    "\n",
    " <b>Affine space</b> \n",
    "\n",
    "\"In mathematics, an affine space is a geometric structure that generalizes some of the properties of Euclidean spaces in such a way that these are independent of the concepts of distance and measure of angles, keeping only the properties related to parallelism and ratio of lengths for parallel line segments.\n",
    "\n",
    "In an affine space, there is no distinguished point that serves as an origin. Hence, no vector has a fixed origin and no vector can be uniquely associated to a point. In an affine space, there are instead displacement vectors, also called translation vectors or simply translations, between two points of the space. Thus it makes sense to subtract two points of the space, giving a translation vector, but it does not make sense to add two points of the space. Likewise, it makes sense to add a displacement vector to a point of an affine space, resulting in a new point translated from the starting point by that vector.\n",
    "\n",
    "Any vector space may be considered as an affine space, and this amounts to forgetting the special role played by the zero vector. In this case, the elements of the vector space may be viewed either as points of the affine space or as displacement vectors or translations. When considered as a point, the zero vector is called the origin. Adding a fixed vector to the elements of a linear subspace of a vector space produces an affine subspace. One commonly says that this affine subspace has been obtained by translating (away from the origin) the linear subspace by the translation vector. In finite dimensions, such an affine subspace is the solution set of an inhomogeneous linear system. The displacement vectors for that affine space are the solutions of the corresponding homogeneous linear system, which is a linear subspace. Linear subspaces, in contrast, always contain the origin of the vector space.\" (Thanks, wiki!) \n",
    "        \n",
    "---------------------------------------------------------------------------------------------------------------------------------------------------------------------------------------------------------------------------------------------------------------------\n",
    " "
   ]
  },
  {
   "cell_type": "markdown",
   "metadata": {},
   "source": [
    "## 1. Quickstart: Sampling a multi-dimensional Gaussian\n",
    "\n",
    "This demonstration illustrates how to draw samples from a multivariate Gaussian of the form, \n",
    "\\begin{equation*}\n",
    "p(\\vec{x}) \\propto exp \\left( -\\frac{1}{2} (\\vec{x} - \\vec{\\mu}) ^ T \\Sigma^ {-1} (\\vec{x} - \\vec{\\mu}) \\right), \n",
    "\\end{equation*} \n",
    "\n",
    "where $\\vec{\\mu}$ is an N-dimensional vector of the mean, and $\\Sigma$ is an N-by-N covariance matrix.  \n",
    "\n",
    "---------------------------------------------------------------------------------------------------------------------------------------------------------------------------------------------------------------------------------------------------------------------\n"
   ]
  },
  {
   "cell_type": "markdown",
   "metadata": {},
   "source": [
    "The function below will return the log of the density $p(\\vec{x})$ given $\\vec{x}$,$\\vec{\\mu}$, and $\\Sigma^{-1}$:"
   ]
  },
  {
   "cell_type": "code",
   "execution_count": 2,
   "metadata": {},
   "outputs": [],
   "source": [
    "np.random.seed(123)\n",
    "\n",
    "def lnprob(x, mu, icov):\n",
    "    '''Log of probability function p'''\n",
    "    diff = x-mu\n",
    "    return -np.dot(diff,np.dot(icov,diff))/2.0"
   ]
  },
  {
   "cell_type": "markdown",
   "metadata": {},
   "source": [
    "Establishing values of hyperparameters in five dimensions: "
   ]
  },
  {
   "cell_type": "code",
   "execution_count": 3,
   "metadata": {},
   "outputs": [],
   "source": [
    "ndim = 5 #number of dimensions\n",
    "np.random.seed(42)\n",
    "means = np.random.rand(ndim)\n",
    "\n",
    "#cov is covariant matrix \n",
    "cov = 0.5 - np.random.rand(ndim ** 2).reshape((ndim, ndim))\n",
    "cov = np.triu(cov) #Return a copy of a matrix with the elements below the k-th diagonal zeroed.\n",
    "cov += cov.T - np.diag(cov.diagonal())\n",
    "cov = np.dot(cov,cov)\n",
    "\n",
    "icov = np.linalg.inv(cov)\n",
    "\n",
    "nwalkers = 32 \n",
    "p0 = np.random.rand(ndim * nwalkers).reshape((nwalkers, ndim))"
   ]
  },
  {
   "cell_type": "markdown",
   "metadata": {},
   "source": [
    "\"EnsembleSampler\" object is the main interface provided by emcee: "
   ]
  },
  {
   "cell_type": "code",
   "execution_count": 4,
   "metadata": {},
   "outputs": [],
   "source": [
    "sampler = emcee.EnsembleSampler(nwalkers, ndim, lnprob, args=[means, icov])\n",
    "#sampler.reset()"
   ]
  },
  {
   "cell_type": "markdown",
   "metadata": {},
   "source": [
    "By setting up the args argument above, we're allowing our probability function lnprob to be called as:"
   ]
  },
  {
   "cell_type": "code",
   "execution_count": 5,
   "metadata": {},
   "outputs": [
    {
     "data": {
      "text/plain": [
       "-2.5960945890854434"
      ]
     },
     "execution_count": 5,
     "metadata": {},
     "output_type": "execute_result"
    }
   ],
   "source": [
    "lnprob(p0[0], means, icov)"
   ]
  },
  {
   "cell_type": "markdown",
   "metadata": {},
   "source": [
    "Running so-called \"burn-in\" steps in the MCMC chain lets the walkers we initiated explore parameter space and \"get settled into the maximum of the density.\" Here, we're using a burn-in of 100 steps, starting from p0-- our initial guess:"
   ]
  },
  {
   "cell_type": "code",
   "execution_count": 6,
   "metadata": {},
   "outputs": [],
   "source": [
    "pos, prob, state = sampler.run_mcmc(p0,100)\n",
    "#state = sampler.run_mcmc(p0,100)\n",
    "sampler.reset()"
   ]
  },
  {
   "cell_type": "markdown",
   "metadata": {},
   "source": [
    "We can now do a production run, here using 10,000 steps:"
   ]
  },
  {
   "cell_type": "code",
   "execution_count": 7,
   "metadata": {
    "scrolled": true
   },
   "outputs": [
    {
     "data": {
      "text/plain": [
       "(array([[ 1.27383773e-01,  1.86663121e+00,  1.51641764e+00,\n",
       "          8.19466796e-01,  4.59611603e-01],\n",
       "        [ 1.31180172e-01,  1.06256417e+00,  9.24920189e-01,\n",
       "          6.57569348e-02, -6.22993170e-01],\n",
       "        [ 5.63338972e-01,  4.98534898e-01,  9.83948693e-01,\n",
       "          8.07004752e-01,  4.73940231e-02],\n",
       "        [ 2.75959152e-01, -7.19094561e-01,  4.02452470e-01,\n",
       "          1.28902177e+00,  1.29708149e+00],\n",
       "        [ 3.79950912e-01,  1.28705383e-01,  6.31907140e-01,\n",
       "          6.58663855e-01,  4.99607021e-01],\n",
       "        [-3.53568989e-02,  1.32096580e+00,  1.05139854e+00,\n",
       "          3.10868128e-02, -1.07104960e-01],\n",
       "        [ 6.48698240e-01,  7.40494397e-01,  6.84418290e-01,\n",
       "          3.00321106e-01, -2.32182361e-01],\n",
       "        [ 6.08629872e-01,  2.87964933e+00,  1.04392452e+00,\n",
       "         -5.57623046e-04, -7.54731865e-01],\n",
       "        [ 2.19925110e-01,  1.33891050e+00,  8.93352190e-01,\n",
       "          8.65678821e-01,  3.58949587e-01],\n",
       "        [ 1.05058459e+00,  1.00677014e+00,  3.22014577e-01,\n",
       "          7.13709117e-01, -2.99502658e-02],\n",
       "        [-3.82361234e-01,  5.39317616e-01,  1.20188674e+00,\n",
       "          2.65841365e-01, -2.73897132e-01],\n",
       "        [ 1.20736306e-01,  1.24964800e+00,  8.61670308e-01,\n",
       "          3.32894787e-01, -9.54627910e-02],\n",
       "        [-1.04345358e-01,  8.19993217e-01,  2.70501122e-01,\n",
       "          5.98520940e-01,  1.42913341e-01],\n",
       "        [ 7.50043720e-01,  3.53889942e-01,  5.43864418e-01,\n",
       "          2.57104816e-01, -7.99053009e-01],\n",
       "        [ 3.06600984e-01,  2.50981260e+00,  1.17055959e+00,\n",
       "          6.13135698e-01,  4.71544835e-01],\n",
       "        [ 1.10863206e-01,  1.78241334e+00,  1.12881247e+00,\n",
       "          8.98548407e-02, -2.20894900e-01],\n",
       "        [-6.25393525e-01,  9.20715837e-01,  1.60801458e+00,\n",
       "          1.66643893e-01, -6.65192555e-02],\n",
       "        [-6.64674721e-01,  1.19230937e+00,  1.74391670e+00,\n",
       "          4.17370468e-02, -3.02050122e-01],\n",
       "        [ 7.15215128e-01,  1.53641247e+00, -1.47880130e-01,\n",
       "         -1.73718838e-01, -7.24978802e-01],\n",
       "        [ 1.01085157e+00,  5.32664118e-01, -1.13888723e-02,\n",
       "          1.13255753e+00,  9.13535474e-01],\n",
       "        [ 6.28563314e-01,  2.26872696e+00,  4.31110701e-01,\n",
       "          3.41824342e-01, -1.83779909e-01],\n",
       "        [ 1.61064733e+00,  8.67478595e-01, -1.33617258e-01,\n",
       "         -9.63847238e-03, -1.40725950e+00],\n",
       "        [ 1.69138328e+00,  1.19382103e+00, -9.18367209e-03,\n",
       "          4.79132414e-01,  4.98353562e-02],\n",
       "        [ 1.25835878e-02, -3.84395262e-01,  5.51797765e-01,\n",
       "          1.10018719e+00,  1.23468009e+00],\n",
       "        [-3.86514402e-01,  1.21236215e+00,  8.30524937e-01,\n",
       "          5.14450899e-01,  6.92454631e-01],\n",
       "        [ 4.12816412e-01,  2.23553896e+00,  1.18516537e+00,\n",
       "          3.35839311e-01, -1.52792725e-01],\n",
       "        [ 1.41267451e-01,  1.08310363e+00,  5.78240168e-01,\n",
       "          8.76571811e-01,  1.28109868e+00],\n",
       "        [ 8.06575763e-01,  9.93494370e-01,  7.75513368e-02,\n",
       "          9.51586106e-01,  3.88123744e-01],\n",
       "        [ 6.63375816e-01,  1.68361783e+00,  1.10346033e+00,\n",
       "          5.51902992e-01,  8.77041282e-03],\n",
       "        [ 6.63802308e-01,  6.28068647e-01,  6.73052992e-01,\n",
       "          9.03994278e-01,  1.40667070e+00],\n",
       "        [ 1.08108979e+00,  4.75178192e-01,  1.24929994e-01,\n",
       "          5.16257138e-01, -1.04262285e+00],\n",
       "        [ 2.29903581e-01,  1.13284988e+00,  6.17289392e-01,\n",
       "          7.17843919e-01,  7.25062366e-01]]),\n",
       " array([-3.65565103, -1.53759452, -1.70636738, -3.20913624, -0.96545516,\n",
       "        -2.24152154, -1.12936656, -3.45106008, -1.25891647, -0.56593842,\n",
       "        -1.58239882, -0.35349965, -3.37241141, -2.14730166, -2.77241544,\n",
       "        -1.45612689, -2.1918147 , -2.86919332, -6.86742477, -2.1878265 ,\n",
       "        -1.74638995, -4.81418869, -2.93266631, -2.65423228, -2.19115578,\n",
       "        -1.86308802, -2.75420211, -1.75987827, -1.83578889, -3.47270936,\n",
       "        -3.20965418, -0.92995913]),\n",
       " ('MT19937', array([ 612405932,  556593803, 1319865570, 2014682085, 1832591837,\n",
       "          504016979, 3898650320, 2969490531, 2320643842, 2592111844,\n",
       "         1998024354, 4289776832, 4046165739,  223831353,  798841105,\n",
       "          579123421,  397880016, 3881489262, 3790510510, 1214930967,\n",
       "         3262166521, 3065062864, 3150697224, 2041692160,  825670288,\n",
       "         2764132632, 3837737377, 3038870297, 3587578009, 1306284702,\n",
       "         3050101522,  272892669, 2120751457, 1149176758,  471283917,\n",
       "         2397290624, 3951558664, 3473671910,  962118205, 1666969602,\n",
       "          858566846, 3294267861,  282313536,  727204412,  928009186,\n",
       "         1951394868, 3331262386,    1435473, 2479528751, 3295917611,\n",
       "         1339562864, 2823509982, 1565826657, 2618339997,  667878928,\n",
       "         2072752126, 4273607699, 3916800161, 4252937249, 3198905541,\n",
       "         1360601163, 1426423839,  845873837, 3100893444, 3418649926,\n",
       "          996882531,  193014832, 3759893370,  218319829, 2905456977,\n",
       "         2008379975,  208709370, 1042841033, 3584173774, 3411421960,\n",
       "         2226179439, 2292244784,  279251471,  200010254, 1078484949,\n",
       "          683890457, 3422004519, 2351654976,   54657447, 1781719610,\n",
       "         1832147497, 1947198287, 1330546320,  989626917, 1615801762,\n",
       "          155552649,  445617948, 3945663034, 2385591101, 2738413867,\n",
       "         1227535072, 2636820292, 2993081755, 2631454239, 3876136299,\n",
       "         2903505592, 2046618599, 2037486184, 2461032220, 1303550419,\n",
       "         3272013672,  991749053, 1626710640, 1744798847, 3556720815,\n",
       "         4245904744,  830514214, 1332940214, 2625046672,  468125211,\n",
       "         2139768985, 1742691822, 3446594415, 3898105446, 2826540051,\n",
       "          444937282, 2746661806, 2935493854,  778685048,  770288209,\n",
       "         1701396979,  201870724,  904172702,  652964072, 1820335563,\n",
       "         2155824920, 2670943657, 1945223051, 2672449600, 1681645146,\n",
       "         3713589119, 1217243451, 3013189575,  729229492, 1215392780,\n",
       "          805252445,  633991167, 2450868063,  242070477,   65382833,\n",
       "         1174041745,  398040456, 3129062809,  274328442, 1958971652,\n",
       "         3565534971, 3907399026,  965915847,  732075299, 1764133060,\n",
       "         4032113104, 3246093727, 1314456146,   40410513, 2432870840,\n",
       "         3820863854, 4120672676, 3025638869, 3716315157, 1457225826,\n",
       "         1966254341, 1684599880, 2815750081, 3005013110, 1074509155,\n",
       "         1763976834,  436318341,  971373127, 1723547719, 3843300571,\n",
       "          882307502,  994596219, 1412880516,  349025153, 3231575898,\n",
       "         2949345274, 2923212350, 2872271200,  226181548, 1376205915,\n",
       "         1253993034, 2683941126,  627170113, 1804739183, 1612423465,\n",
       "         2541497104, 3502919669,  583701080, 2822621078, 1252183931,\n",
       "         1743685193, 2121023613,  965589673, 2879267099, 2803400131,\n",
       "         3983829203,  149734786,  356368679, 3769183458,  658725735,\n",
       "         3553775442, 2701011613, 4102667377, 1239243472, 1822929438,\n",
       "         2866472913, 4024681059,  779534887, 1658685251,   99625062,\n",
       "         3752306717, 4259413248, 3470119890, 3551880661, 2210292717,\n",
       "         1116547431, 3481211123, 3155140289, 2597547218, 2025964852,\n",
       "         3692071752, 3973561893, 2168252123, 3089876430, 2178091457,\n",
       "         2719763765, 3395578737,   54772382,  661763530,  916846887,\n",
       "         3875964592, 4271316489, 2934033627, 2315395305, 1502697433,\n",
       "         1190931047, 2881915105, 1974256480, 2260350127, 2369889098,\n",
       "         2353651891,  537995280, 3173502458, 3353896043, 3610425276,\n",
       "         2367297845, 3064244084,  324712590, 1656600358, 2232756910,\n",
       "         3091408946, 1504471025, 2958172115, 1516601507, 4273187899,\n",
       "         1147166036, 2633153301, 2096167461, 2054942868, 3445776594,\n",
       "         3716607635,  551920345, 3397080598, 1089832538, 2896325899,\n",
       "         1574851496, 3594020068, 3956669590, 4204836581,  642562904,\n",
       "          899720656, 2888468670, 1123780951,  340755308,  239494914,\n",
       "         1078186326, 2442900580,  132191554, 3644884204, 2985009364,\n",
       "         3588116601, 3646821301, 2389507381, 2628349767, 4170740413,\n",
       "         3402995177, 3817677075, 3495568906, 3751085033, 1783139021,\n",
       "          841038739, 2105195148, 2450158220, 1472568489, 3660669846,\n",
       "          437752515,  108660432, 1214794313,  742403396,  658035697,\n",
       "         2321117110,  958019169, 1861337355, 1380275633, 1968924071,\n",
       "         4177798939, 1959784283, 1147363146, 1396369709, 3620936628,\n",
       "         2287535780, 1641744006, 2303996108, 2277585268, 3047519548,\n",
       "          824445915,  542183665, 1684677407, 4214156354, 2178017086,\n",
       "         2450528294, 4173974805, 1809458026, 3340875075, 3911255153,\n",
       "         2457940502,  621968960, 1932795032, 4119559664,  491459296,\n",
       "         2903118188, 3174211810, 2416804677, 3443602303,  191811911,\n",
       "          518416712,   95420192, 2983564180, 3736677824, 2726721262,\n",
       "         2915974411, 3040450902, 3299450270, 1451791731, 2555136370,\n",
       "         4272667072, 1036542907, 3644413352, 2957926936, 1146888119,\n",
       "         2304265400, 2850364154, 3765637116,  296722596, 1405379727,\n",
       "         2928658856,  857308622,  294274155, 3228175392,  369055101,\n",
       "         1632039280, 4138648095, 1984606183, 2077735460, 4096376343,\n",
       "         3847994399, 1211837819, 3031725930,  600231433,  539440791,\n",
       "         2875484547, 3326851476, 1229869864, 2602113488, 2542647676,\n",
       "         2357449128, 4180951595, 1371834181,  957399115,  572703898,\n",
       "         3635842058, 3924492607, 2815657401,  609220011, 1762572779,\n",
       "         3806881989, 2190027191, 3407512730, 1264275719, 2174089371,\n",
       "         2910911866, 3501952080, 2557116364, 2858265097, 3621194462,\n",
       "          445087081, 2186793653, 1400598284,  204723526, 2114897102,\n",
       "         2745371162, 3943659060,  418170523, 3686686895, 1196728466,\n",
       "         2639456780, 2705816930, 3555534238, 1854716792, 2788812169,\n",
       "          864101446,  814170198,  231796238, 1838353066,  147704091,\n",
       "         2991401898, 2140458763, 1617200425, 2795878643, 4131461386,\n",
       "         3205976914, 3801588384, 1330013012, 4217681577, 1114754979,\n",
       "         3060939709, 1952990501, 4108382509, 3112394442, 3157918136,\n",
       "          674890014, 3576343021,  488897103, 4208692674, 3000862394,\n",
       "         2885902468,  801145031, 1195832906, 1777532899, 2400995903,\n",
       "         4234160967, 1446514981, 2448319167, 1481534388,  674388610,\n",
       "         3338616901,  403290870,   93515493, 2840710288, 2024952523,\n",
       "          968840650, 1424971949, 3334473768,  672918391, 2506605204,\n",
       "          883123635, 3905294972, 1686898575, 2932110249,   68316822,\n",
       "         4078132479, 2327513244, 3686735558, 3139122918, 3644964829,\n",
       "         3768359250, 2945534331, 3186724888, 3535551146, 4259688859,\n",
       "         2283869712, 3715331295, 2170756634, 3900895461, 2408052613,\n",
       "         3980395353, 2885179735, 3519622012, 2083028864, 1589653713,\n",
       "         1214672188,  293708291, 1367956512, 1493244656,  924905346,\n",
       "         4055653561, 3729149426, 3117888500, 4117221304, 1407270213,\n",
       "         2333862039, 1403840857, 3752605652, 3316765886, 2230321823,\n",
       "         2563897002, 2030254709,  162007503, 3461244858, 1591471274,\n",
       "         4103114118, 3379587168,  200966238, 3137939263, 3043811350,\n",
       "          749051326,  702785370,  161792998, 4160335630, 3105293629,\n",
       "         2737919875,  642746704, 1545649927, 3794815898, 2557355423,\n",
       "          587168048,  215092433, 1805042151,  509968461, 2994718172,\n",
       "         3114116118, 2014640017, 2925661623, 2295541933, 2004823785,\n",
       "         4276420770, 3268498879, 1812738605, 3281362394, 3594332942,\n",
       "         3339271364, 1888330630, 3602385850, 2637115899, 2274736113,\n",
       "         2140006315, 3408916234, 4016888039, 2706334147, 3569710576,\n",
       "         2216344275, 1330156458, 1618658949, 2419176856, 1175352799,\n",
       "         2911380559, 1330407028,  944829468, 1678849786, 3483236266,\n",
       "          525205032, 2233508452, 1597510094,  536616403, 2150096839,\n",
       "         4070554207, 2441577617,  487501829,  473971605, 1592697814,\n",
       "         3119088587, 2542707870, 2739295318, 2295719365,  513086779,\n",
       "         3462594134,  117513767, 3163957275,  339709005, 2948366386,\n",
       "         2529110110, 2089591116, 4125419279, 4064205071, 2274179774,\n",
       "         3323156754, 3293890521, 4120326047, 1715199159, 2061463769,\n",
       "         2545204127,  470603143, 1327173665, 2226048265, 2086676059,\n",
       "          107781804,  667819255, 1954937834, 3775230651, 3109583314,\n",
       "         2291012042, 3165986677, 3207977362, 2815902885, 3427692176,\n",
       "          659195331, 4022563061,  964344136, 3606088817, 3265089116,\n",
       "           72600965,  676803828,  635829315, 2504502225, 1854789426,\n",
       "         3331954721, 2855248804,  838698139, 2746888971, 3850145298,\n",
       "          561925336, 4265460940,  221076065,  829649406, 2391929623,\n",
       "         3075897462, 2964613992, 3160646507, 2197538054], dtype=uint32), 464, 0, 0.0))"
      ]
     },
     "execution_count": 7,
     "metadata": {},
     "output_type": "execute_result"
    }
   ],
   "source": [
    "sampler.run_mcmc(pos, 10000)"
   ]
  },
  {
   "cell_type": "markdown",
   "metadata": {},
   "source": [
    "Now we can create histograms of these density samples to get an estimate of the density:"
   ]
  },
  {
   "cell_type": "code",
   "execution_count": 8,
   "metadata": {
    "scrolled": true
   },
   "outputs": [
    {
     "data": {
      "image/png": "[encoded data removed]",
      "text/plain": [
       "<Figure size 576x432 with 1 Axes>"
      ]
     },
     "metadata": {
      "needs_background": "light"
     },
     "output_type": "display_data"
    },
    {
     "data": {
      "image/png": "[encoded data removed]",
      "text/plain": [
       "<Figure size 576x432 with 1 Axes>"
      ]
     },
     "metadata": {
      "needs_background": "light"
     },
     "output_type": "display_data"
    },
    {
     "data": {
      "image/png": "[encoded data removed]",
      "text/plain": [
       "<Figure size 576x432 with 1 Axes>"
      ]
     },
     "metadata": {
      "needs_background": "light"
     },
     "output_type": "display_data"
    },
    {
     "data": {
      "image/png": "[encoded data removed]",
      "text/plain": [
       "<Figure size 576x432 with 1 Axes>"
      ]
     },
     "metadata": {
      "needs_background": "light"
     },
     "output_type": "display_data"
    },
    {
     "data": {
      "image/png": "[encoded data removed]",
      "text/plain": [
       "<Figure size 576x432 with 1 Axes>"
      ]
     },
     "metadata": {
      "needs_background": "light"
     },
     "output_type": "display_data"
    }
   ],
   "source": [
    "for i in range(ndim):\n",
    "    plt.figure(figsize=(8,6))\n",
    "    plt.hist(sampler.flatchain[:,i], 100, color=\"k\", histtype=\"step\")\n",
    "    plt.title(\"Dimension {0:d}\".format(i), fontsize=18)\n",
    "plt.show()"
   ]
  },
  {
   "cell_type": "code",
   "execution_count": 9,
   "metadata": {},
   "outputs": [
    {
     "name": "stdout",
     "output_type": "stream",
     "text": [
      "Mean acceptance fraction: 0.551362\n",
      " This number should be between ~ 0.25 and 0.5 if all went well!\n"
     ]
    }
   ],
   "source": [
    "print(\"Mean acceptance fraction: {0:3f}\"\n",
    "      .format(np.mean(sampler.acceptance_fraction)))\n",
    "\n",
    "print(\" This number should be between ~ 0.25 and 0.5 if all went well!\")"
   ]
  }
 ],
 "metadata": {
  "kernelspec": {
   "display_name": "Python 3",
   "language": "python",
   "name": "python3"
  },
  "language_info": {
   "codemirror_mode": {
    "name": "ipython",
    "version": 3
   },
   "file_extension": ".py",
   "mimetype": "text/x-python",
   "name": "python",
   "nbconvert_exporter": "python",
   "pygments_lexer": "ipython3",
   "version": "3.6.2"
  }
 },
 "nbformat": 4,
 "nbformat_minor": 2
}
